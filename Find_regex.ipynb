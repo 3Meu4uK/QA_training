{
 "cells": [
  {
   "cell_type": "code",
   "execution_count": 1,
   "metadata": {},
   "outputs": [],
   "source": [
    "import pandas as pd\n",
    "import numpy as np\n",
    "from pathlib import Path\n",
    "import re"
   ]
  },
  {
   "cell_type": "code",
   "execution_count": 2,
   "metadata": {
    "scrolled": true
   },
   "outputs": [
    {
     "name": "stdout",
     "output_type": "stream",
     "text": [
      "Insert the path to the file or folder: /Users/3meu4uk/Documents/Обучение QA/Лекция 9. ДЗ/log.log\n",
      "                                                                                                                                                                                                                                   logs\n",
      "0       LogUObjectGlobals: Warning: While loading 'D:/repo/proto/Client/Content/Tests/Maps/HoudiniLandscape.umap' failed to load '/Game/HoudiniEngine/Temp/HDA_TerrainToolD629CDC34BCF_LayerInfoObject_DebrisLayer_9': Can't find file.\n",
      "1       LogUObjectGlobals: Warning: While loading 'D:/repo/proto/Client/Content/Tests/Maps/HoudiniLandscape.umap' failed to load '/Game/HoudiniEngine/Temp/HDA_TerrainToolD629CDC34BCF_LayerInfoObject_GrassLayer_10': Can't find file.\n",
      "2       LogUObjectGlobals: Warning: While loading 'D:/repo/proto/Client/Content/Tests/Maps/HoudiniLandscape.umap' failed to load '/Game/HoudiniEngine/Temp/HDA_TerrainToolD629CDC34BCF_LayerInfoObject_GrassLayer_10': Can't find file.\n",
      "3              LogUObjectGlobals: Warning: While loading 'D:/repo/proto/Client/Content/Tests/Maps/HoudiniLandscape.umap' failed to load '/Game/HoudiniEngine/Temp/HDA_TerrainToolD629CDC34BCF_LayerInfoObject_mesa_1': Can't find file.\n",
      "4              LogUObjectGlobals: Warning: While loading 'D:/repo/proto/Client/Content/Tests/Maps/HoudiniLandscape.umap' failed to load '/Game/HoudiniEngine/Temp/HDA_TerrainToolD629CDC34BCF_LayerInfoObject_mesa_1': Can't find file.\n",
      "...                                                                                                                                                                                                                                 ...\n",
      "5319                                                                                                                                        Cancelling Test Gauntlet.Automation.Unreal.SampleTest (Win64 Development Client) on request\n",
      "5320                                                                                                                                                                                                                                  *\n",
      "5321                                                                                                                                                                   ****************************************************************\n",
      "5322                                                                                                                                           Finished Test: Gauntlet.Automation.Unreal.SampleTest (Win64 Development Client) in 02:57\n",
      "5323                                                                                                                                                                                                                     ^CBUILD FAILED\n",
      "\n",
      "[5324 rows x 1 columns]\n"
     ]
    }
   ],
   "source": [
    "file_path = input(\"Insert the path to the file or folder: \")\n",
    "\n",
    "if file_path[-1] == \"/\":\n",
    "    p = Path(file_path)  \n",
    "    log = (pd\n",
    "          .concat(\n",
    "            [pd.read_table(f)\n",
    "            for f in p.glob(\"*.log\")],\n",
    "            ignore_index=True))\n",
    "else:\n",
    "    log = pd.read_table(file_path)\n",
    "\n",
    "log.columns = ['logs']\n",
    "pd.options.display.max_colwidth = None\n",
    "print(log)"
   ]
  },
  {
   "cell_type": "code",
   "execution_count": null,
   "metadata": {},
   "outputs": [],
   "source": [
    "# /Users/3meu4uk/Documents/Обучение QA/Лекция 9. ДЗ/log.log"
   ]
  },
  {
   "cell_type": "code",
   "execution_count": 11,
   "metadata": {
    "scrolled": true
   },
   "outputs": [
    {
     "name": "stdout",
     "output_type": "stream",
     "text": [
      "Insert the mask to find: ng{1}.*Object_water\n"
     ]
    },
    {
     "data": {
      "text/html": [
       "<div>\n",
       "<style scoped>\n",
       "    .dataframe tbody tr th:only-of-type {\n",
       "        vertical-align: middle;\n",
       "    }\n",
       "\n",
       "    .dataframe tbody tr th {\n",
       "        vertical-align: top;\n",
       "    }\n",
       "\n",
       "    .dataframe thead th {\n",
       "        text-align: right;\n",
       "    }\n",
       "</style>\n",
       "<table border=\"1\" class=\"dataframe\">\n",
       "  <thead>\n",
       "    <tr style=\"text-align: right;\">\n",
       "      <th></th>\n",
       "      <th>logs</th>\n",
       "    </tr>\n",
       "  </thead>\n",
       "  <tbody>\n",
       "    <tr>\n",
       "      <th>13</th>\n",
       "      <td>LogUObjectGlobals: Warning: While loading 'D:/repo/proto/Client/Content/Tests/Maps/HoudiniLandscape.umap' failed to load '/Game/HoudiniEngine/Temp/HDA_TerrainToolD629CDC34BCF_LayerInfoObject_water_7': Can't find file.</td>\n",
       "    </tr>\n",
       "    <tr>\n",
       "      <th>14</th>\n",
       "      <td>LogUObjectGlobals: Warning: While loading 'D:/repo/proto/Client/Content/Tests/Maps/HoudiniLandscape.umap' failed to load '/Game/HoudiniEngine/Temp/HDA_TerrainToolD629CDC34BCF_LayerInfoObject_water_7': Can't find file.</td>\n",
       "    </tr>\n",
       "    <tr>\n",
       "      <th>25</th>\n",
       "      <td>LogUObjectGlobals: Warning: While loading 'D:/repo/proto/Client/Content/Tests/Maps/HoudiniLandscape.umap' failed to load '/Game/HoudiniEngine/Temp/HDA_TerrainToolD629CDC34BCF_LayerInfoObject_water_7': Can't find file.</td>\n",
       "    </tr>\n",
       "    <tr>\n",
       "      <th>26</th>\n",
       "      <td>LogUObjectGlobals: Warning: While loading 'D:/repo/proto/Client/Content/Tests/Maps/HoudiniLandscape.umap' failed to load '/Game/HoudiniEngine/Temp/HDA_TerrainToolD629CDC34BCF_LayerInfoObject_water_7': Can't find file.</td>\n",
       "    </tr>\n",
       "    <tr>\n",
       "      <th>37</th>\n",
       "      <td>LogUObjectGlobals: Warning: While loading 'D:/repo/proto/Client/Content/Tests/Maps/HoudiniLandscape.umap' failed to load '/Game/HoudiniEngine/Temp/HDA_TerrainToolD629CDC34BCF_LayerInfoObject_water_7': Can't find file.</td>\n",
       "    </tr>\n",
       "    <tr>\n",
       "      <th>...</th>\n",
       "      <td>...</td>\n",
       "    </tr>\n",
       "    <tr>\n",
       "      <th>1878</th>\n",
       "      <td>LogUObjectGlobals: Warning: While loading 'D:/repo/proto/Client/Content/Tests/Maps/HoudiniLandscape.umap' failed to load '/Game/HoudiniEngine/Temp/HDA_TerrainToolD629CDC34BCF_LayerInfoObject_water_7': Can't find file.</td>\n",
       "    </tr>\n",
       "    <tr>\n",
       "      <th>1887</th>\n",
       "      <td>LogUObjectGlobals: Warning: While loading 'D:/repo/proto/Client/Content/Tests/Maps/HoudiniLandscape.umap' failed to load '/Game/HoudiniEngine/Temp/HDA_TerrainToolD629CDC34BCF_LayerInfoObject_water_7': Can't find file.</td>\n",
       "    </tr>\n",
       "    <tr>\n",
       "      <th>1888</th>\n",
       "      <td>LogUObjectGlobals: Warning: While loading 'D:/repo/proto/Client/Content/Tests/Maps/HoudiniLandscape.umap' failed to load '/Game/HoudiniEngine/Temp/HDA_TerrainToolD629CDC34BCF_LayerInfoObject_water_7': Can't find file.</td>\n",
       "    </tr>\n",
       "    <tr>\n",
       "      <th>2462</th>\n",
       "      <td>LogInit: Display: LogUObjectGlobals: Warning: While loading 'D:/repo/proto/Client/Content/Tests/Maps/HoudiniLandscape.umap' failed to load '/Game/HoudiniEngine/Temp/HDA_TerrainToolD629CDC34BCF_LayerInfoObject_water_7': Can't find file.</td>\n",
       "    </tr>\n",
       "    <tr>\n",
       "      <th>2473</th>\n",
       "      <td>LogInit: Display: LogUObjectGlobals: Warning: Failed to load '/Game/HoudiniEngine/Temp/HDA_TerrainToolD629CDC34BCF_LayerInfoObject_water_7': Can't find file.</td>\n",
       "    </tr>\n",
       "  </tbody>\n",
       "</table>\n",
       "<p>268 rows × 1 columns</p>\n",
       "</div>"
      ],
      "text/plain": [
       "                                                                                                                                                                                                                                               logs\n",
       "13                        LogUObjectGlobals: Warning: While loading 'D:/repo/proto/Client/Content/Tests/Maps/HoudiniLandscape.umap' failed to load '/Game/HoudiniEngine/Temp/HDA_TerrainToolD629CDC34BCF_LayerInfoObject_water_7': Can't find file.\n",
       "14                        LogUObjectGlobals: Warning: While loading 'D:/repo/proto/Client/Content/Tests/Maps/HoudiniLandscape.umap' failed to load '/Game/HoudiniEngine/Temp/HDA_TerrainToolD629CDC34BCF_LayerInfoObject_water_7': Can't find file.\n",
       "25                        LogUObjectGlobals: Warning: While loading 'D:/repo/proto/Client/Content/Tests/Maps/HoudiniLandscape.umap' failed to load '/Game/HoudiniEngine/Temp/HDA_TerrainToolD629CDC34BCF_LayerInfoObject_water_7': Can't find file.\n",
       "26                        LogUObjectGlobals: Warning: While loading 'D:/repo/proto/Client/Content/Tests/Maps/HoudiniLandscape.umap' failed to load '/Game/HoudiniEngine/Temp/HDA_TerrainToolD629CDC34BCF_LayerInfoObject_water_7': Can't find file.\n",
       "37                        LogUObjectGlobals: Warning: While loading 'D:/repo/proto/Client/Content/Tests/Maps/HoudiniLandscape.umap' failed to load '/Game/HoudiniEngine/Temp/HDA_TerrainToolD629CDC34BCF_LayerInfoObject_water_7': Can't find file.\n",
       "...                                                                                                                                                                                                                                             ...\n",
       "1878                      LogUObjectGlobals: Warning: While loading 'D:/repo/proto/Client/Content/Tests/Maps/HoudiniLandscape.umap' failed to load '/Game/HoudiniEngine/Temp/HDA_TerrainToolD629CDC34BCF_LayerInfoObject_water_7': Can't find file.\n",
       "1887                      LogUObjectGlobals: Warning: While loading 'D:/repo/proto/Client/Content/Tests/Maps/HoudiniLandscape.umap' failed to load '/Game/HoudiniEngine/Temp/HDA_TerrainToolD629CDC34BCF_LayerInfoObject_water_7': Can't find file.\n",
       "1888                      LogUObjectGlobals: Warning: While loading 'D:/repo/proto/Client/Content/Tests/Maps/HoudiniLandscape.umap' failed to load '/Game/HoudiniEngine/Temp/HDA_TerrainToolD629CDC34BCF_LayerInfoObject_water_7': Can't find file.\n",
       "2462    LogInit: Display: LogUObjectGlobals: Warning: While loading 'D:/repo/proto/Client/Content/Tests/Maps/HoudiniLandscape.umap' failed to load '/Game/HoudiniEngine/Temp/HDA_TerrainToolD629CDC34BCF_LayerInfoObject_water_7': Can't find file.\n",
       "2473                                                                                  LogInit: Display: LogUObjectGlobals: Warning: Failed to load '/Game/HoudiniEngine/Temp/HDA_TerrainToolD629CDC34BCF_LayerInfoObject_water_7': Can't find file.\n",
       "\n",
       "[268 rows x 1 columns]"
      ]
     },
     "execution_count": 11,
     "metadata": {},
     "output_type": "execute_result"
    }
   ],
   "source": [
    "regex = input(\"Insert the mask to find: \")\n",
    "log[log['logs'].str.contains(regex)]"
   ]
  }
 ],
 "metadata": {
  "kernelspec": {
   "display_name": "Python 3 (ipykernel)",
   "language": "python",
   "name": "python3"
  },
  "language_info": {
   "codemirror_mode": {
    "name": "ipython",
    "version": 3
   },
   "file_extension": ".py",
   "mimetype": "text/x-python",
   "name": "python",
   "nbconvert_exporter": "python",
   "pygments_lexer": "ipython3",
   "version": "3.9.13"
  }
 },
 "nbformat": 4,
 "nbformat_minor": 2
}

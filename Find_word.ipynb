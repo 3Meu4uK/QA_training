{
 "cells": [
  {
   "cell_type": "code",
   "execution_count": 1,
   "metadata": {},
   "outputs": [],
   "source": [
    "import pandas as pd\n",
    "import numpy as np\n",
    "from pathlib import Path\n",
    "import re"
   ]
  },
  {
   "cell_type": "code",
   "execution_count": 2,
   "metadata": {
    "scrolled": true
   },
   "outputs": [
    {
     "name": "stdout",
     "output_type": "stream",
     "text": [
      "Insert the path to the file or folder: /Users/3meu4uk/Documents/Обучение QA/Лекция 9. ДЗ/log.log\n",
      "                                                                                                                                                                                                                                   logs\n",
      "0       LogUObjectGlobals: Warning: While loading 'D:/repo/proto/Client/Content/Tests/Maps/HoudiniLandscape.umap' failed to load '/Game/HoudiniEngine/Temp/HDA_TerrainToolD629CDC34BCF_LayerInfoObject_DebrisLayer_9': Can't find file.\n",
      "1       LogUObjectGlobals: Warning: While loading 'D:/repo/proto/Client/Content/Tests/Maps/HoudiniLandscape.umap' failed to load '/Game/HoudiniEngine/Temp/HDA_TerrainToolD629CDC34BCF_LayerInfoObject_GrassLayer_10': Can't find file.\n",
      "2       LogUObjectGlobals: Warning: While loading 'D:/repo/proto/Client/Content/Tests/Maps/HoudiniLandscape.umap' failed to load '/Game/HoudiniEngine/Temp/HDA_TerrainToolD629CDC34BCF_LayerInfoObject_GrassLayer_10': Can't find file.\n",
      "3              LogUObjectGlobals: Warning: While loading 'D:/repo/proto/Client/Content/Tests/Maps/HoudiniLandscape.umap' failed to load '/Game/HoudiniEngine/Temp/HDA_TerrainToolD629CDC34BCF_LayerInfoObject_mesa_1': Can't find file.\n",
      "4              LogUObjectGlobals: Warning: While loading 'D:/repo/proto/Client/Content/Tests/Maps/HoudiniLandscape.umap' failed to load '/Game/HoudiniEngine/Temp/HDA_TerrainToolD629CDC34BCF_LayerInfoObject_mesa_1': Can't find file.\n",
      "...                                                                                                                                                                                                                                 ...\n",
      "5319                                                                                                                                        Cancelling Test Gauntlet.Automation.Unreal.SampleTest (Win64 Development Client) on request\n",
      "5320                                                                                                                                                                                                                                  *\n",
      "5321                                                                                                                                                                   ****************************************************************\n",
      "5322                                                                                                                                           Finished Test: Gauntlet.Automation.Unreal.SampleTest (Win64 Development Client) in 02:57\n",
      "5323                                                                                                                                                                                                                     ^CBUILD FAILED\n",
      "\n",
      "[5324 rows x 1 columns]\n"
     ]
    }
   ],
   "source": [
    "file_path = input(\"Insert the path to the file or folder: \")\n",
    "\n",
    "if file_path[-1] == \"/\":\n",
    "    p = Path(file_path)  \n",
    "    log = (pd\n",
    "          .concat(\n",
    "            [pd.read_table(f)\n",
    "            for f in p.glob(\"*.log\")],\n",
    "            ignore_index=True))\n",
    "else:\n",
    "    log = pd.read_table(file_path)\n",
    "\n",
    "log.columns = ['logs']\n",
    "pd.options.display.max_colwidth = None\n",
    "print(log)"
   ]
  },
  {
   "cell_type": "code",
   "execution_count": null,
   "metadata": {},
   "outputs": [],
   "source": [
    "# /Users/3meu4uk/Documents/Обучение QA/Лекция 9. ДЗ/log.log"
   ]
  },
  {
   "cell_type": "code",
   "execution_count": 3,
   "metadata": {
    "scrolled": true
   },
   "outputs": [
    {
     "name": "stdout",
     "output_type": "stream",
     "text": [
      "Insert the word to find: Warning\n"
     ]
    },
    {
     "data": {
      "text/html": [
       "<div>\n",
       "<style scoped>\n",
       "    .dataframe tbody tr th:only-of-type {\n",
       "        vertical-align: middle;\n",
       "    }\n",
       "\n",
       "    .dataframe tbody tr th {\n",
       "        vertical-align: top;\n",
       "    }\n",
       "\n",
       "    .dataframe thead th {\n",
       "        text-align: right;\n",
       "    }\n",
       "</style>\n",
       "<table border=\"1\" class=\"dataframe\">\n",
       "  <thead>\n",
       "    <tr style=\"text-align: right;\">\n",
       "      <th></th>\n",
       "      <th>logs</th>\n",
       "    </tr>\n",
       "  </thead>\n",
       "  <tbody>\n",
       "    <tr>\n",
       "      <th>0</th>\n",
       "      <td>LogUObjectGlobals: Warning: While loading 'D:/repo/proto/Client/Content/Tests/Maps/HoudiniLandscape.umap' failed to load '/Game/HoudiniEngine/Temp/HDA_TerrainToolD629CDC34BCF_LayerInfoObject_DebrisLayer_9': Can't find file.</td>\n",
       "    </tr>\n",
       "    <tr>\n",
       "      <th>1</th>\n",
       "      <td>LogUObjectGlobals: Warning: While loading 'D:/repo/proto/Client/Content/Tests/Maps/HoudiniLandscape.umap' failed to load '/Game/HoudiniEngine/Temp/HDA_TerrainToolD629CDC34BCF_LayerInfoObject_GrassLayer_10': Can't find file.</td>\n",
       "    </tr>\n",
       "    <tr>\n",
       "      <th>2</th>\n",
       "      <td>LogUObjectGlobals: Warning: While loading 'D:/repo/proto/Client/Content/Tests/Maps/HoudiniLandscape.umap' failed to load '/Game/HoudiniEngine/Temp/HDA_TerrainToolD629CDC34BCF_LayerInfoObject_GrassLayer_10': Can't find file.</td>\n",
       "    </tr>\n",
       "    <tr>\n",
       "      <th>3</th>\n",
       "      <td>LogUObjectGlobals: Warning: While loading 'D:/repo/proto/Client/Content/Tests/Maps/HoudiniLandscape.umap' failed to load '/Game/HoudiniEngine/Temp/HDA_TerrainToolD629CDC34BCF_LayerInfoObject_mesa_1': Can't find file.</td>\n",
       "    </tr>\n",
       "    <tr>\n",
       "      <th>4</th>\n",
       "      <td>LogUObjectGlobals: Warning: While loading 'D:/repo/proto/Client/Content/Tests/Maps/HoudiniLandscape.umap' failed to load '/Game/HoudiniEngine/Temp/HDA_TerrainToolD629CDC34BCF_LayerInfoObject_mesa_1': Can't find file.</td>\n",
       "    </tr>\n",
       "    <tr>\n",
       "      <th>...</th>\n",
       "      <td>...</td>\n",
       "    </tr>\n",
       "    <tr>\n",
       "      <th>5228</th>\n",
       "      <td>Warning: Gauntlet.Automation.Unreal.SampleTest (Win64 Development Client) result=Passed</td>\n",
       "    </tr>\n",
       "    <tr>\n",
       "      <th>5231</th>\n",
       "      <td>FatalErrors: 0, Ensures: 2, Errors: 53, Warnings: 161</td>\n",
       "    </tr>\n",
       "    <tr>\n",
       "      <th>5276</th>\n",
       "      <td>FatalErrors: 0, Ensures: 2, Errors: 53, Warnings: 161, Hash: DE8C21D156E0B759FF4A6A277AD76117</td>\n",
       "    </tr>\n",
       "    <tr>\n",
       "      <th>5281</th>\n",
       "      <td>Warning: The MainFrame module should only be loaded when running the editor.  Code that extends the editor, adds menu items, etc... should not run when running in -game mode or in a non-WITH_EDITOR build: Ensure condition failed: !IsRunningGame() [File:D:/j/workspace/common_build_unreal_engine/Engine/Source/Editor/MainFrame/Private/MainFrameModule.cpp] [Line: 441]</td>\n",
       "    </tr>\n",
       "    <tr>\n",
       "      <th>5282</th>\n",
       "      <td>Warning: в компоненте DRadarDrawerComponent актёра: BP_HUD_Lobby_C_0, не прописано поле RenderTarget: Ensure condition failed: RenderTarget [File:D:/repo/proto/Client/Source/Unreal/Private/UI/Map/DRadarDrawerComponent.cpp] [Line: 110]</td>\n",
       "    </tr>\n",
       "  </tbody>\n",
       "</table>\n",
       "<p>2226 rows × 1 columns</p>\n",
       "</div>"
      ],
      "text/plain": [
       "                                                                                                                                                                                                                                                                                                                                                                                logs\n",
       "0                                                                                                                                                    LogUObjectGlobals: Warning: While loading 'D:/repo/proto/Client/Content/Tests/Maps/HoudiniLandscape.umap' failed to load '/Game/HoudiniEngine/Temp/HDA_TerrainToolD629CDC34BCF_LayerInfoObject_DebrisLayer_9': Can't find file.\n",
       "1                                                                                                                                                    LogUObjectGlobals: Warning: While loading 'D:/repo/proto/Client/Content/Tests/Maps/HoudiniLandscape.umap' failed to load '/Game/HoudiniEngine/Temp/HDA_TerrainToolD629CDC34BCF_LayerInfoObject_GrassLayer_10': Can't find file.\n",
       "2                                                                                                                                                    LogUObjectGlobals: Warning: While loading 'D:/repo/proto/Client/Content/Tests/Maps/HoudiniLandscape.umap' failed to load '/Game/HoudiniEngine/Temp/HDA_TerrainToolD629CDC34BCF_LayerInfoObject_GrassLayer_10': Can't find file.\n",
       "3                                                                                                                                                           LogUObjectGlobals: Warning: While loading 'D:/repo/proto/Client/Content/Tests/Maps/HoudiniLandscape.umap' failed to load '/Game/HoudiniEngine/Temp/HDA_TerrainToolD629CDC34BCF_LayerInfoObject_mesa_1': Can't find file.\n",
       "4                                                                                                                                                           LogUObjectGlobals: Warning: While loading 'D:/repo/proto/Client/Content/Tests/Maps/HoudiniLandscape.umap' failed to load '/Game/HoudiniEngine/Temp/HDA_TerrainToolD629CDC34BCF_LayerInfoObject_mesa_1': Can't find file.\n",
       "...                                                                                                                                                                                                                                                                                                                                                                              ...\n",
       "5228                                                                                                                                                                                                                                                                                         Warning: Gauntlet.Automation.Unreal.SampleTest (Win64 Development Client) result=Passed\n",
       "5231                                                                                                                                                                                                                                                                                                                           FatalErrors: 0, Ensures: 2, Errors: 53, Warnings: 161\n",
       "5276                                                                                                                                                                                                                                                                                   FatalErrors: 0, Ensures: 2, Errors: 53, Warnings: 161, Hash: DE8C21D156E0B759FF4A6A277AD76117\n",
       "5281  Warning: The MainFrame module should only be loaded when running the editor.  Code that extends the editor, adds menu items, etc... should not run when running in -game mode or in a non-WITH_EDITOR build: Ensure condition failed: !IsRunningGame() [File:D:/j/workspace/common_build_unreal_engine/Engine/Source/Editor/MainFrame/Private/MainFrameModule.cpp] [Line: 441]\n",
       "5282                                                                                                                                      Warning: в компоненте DRadarDrawerComponent актёра: BP_HUD_Lobby_C_0, не прописано поле RenderTarget: Ensure condition failed: RenderTarget [File:D:/repo/proto/Client/Source/Unreal/Private/UI/Map/DRadarDrawerComponent.cpp] [Line: 110]\n",
       "\n",
       "[2226 rows x 1 columns]"
      ]
     },
     "execution_count": 3,
     "metadata": {},
     "output_type": "execute_result"
    }
   ],
   "source": [
    "word = input(\"Insert the word to find: \")\n",
    "log[log['logs'].str.contains(word)]"
   ]
  }
 ],
 "metadata": {
  "kernelspec": {
   "display_name": "Python 3 (ipykernel)",
   "language": "python",
   "name": "python3"
  },
  "language_info": {
   "codemirror_mode": {
    "name": "ipython",
    "version": 3
   },
   "file_extension": ".py",
   "mimetype": "text/x-python",
   "name": "python",
   "nbconvert_exporter": "python",
   "pygments_lexer": "ipython3",
   "version": "3.9.13"
  }
 },
 "nbformat": 4,
 "nbformat_minor": 2
}

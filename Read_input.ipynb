{
 "cells": [
  {
   "cell_type": "code",
   "execution_count": 1,
   "metadata": {},
   "outputs": [],
   "source": [
    "import pandas as pd\n",
    "import numpy as np\n",
    "from pathlib import Path\n",
    "import re"
   ]
  },
  {
   "cell_type": "code",
   "execution_count": 2,
   "metadata": {},
   "outputs": [
    {
     "name": "stdout",
     "output_type": "stream",
     "text": [
      "Введите путь к файлу или папке: /Users/3meu4uk/Documents/Обучение QA/Лекция 9. ДЗ/\n",
      "                                                                                                                                                                                                                                    logs\n",
      "0        LogUObjectGlobals: Warning: While loading 'D:/repo/proto/Client/Content/Tests/Maps/HoudiniLandscape.umap' failed to load '/Game/HoudiniEngine/Temp/HDA_TerrainToolD629CDC34BCF_LayerInfoObject_DebrisLayer_9': Can't find file.\n",
      "1        LogUObjectGlobals: Warning: While loading 'D:/repo/proto/Client/Content/Tests/Maps/HoudiniLandscape.umap' failed to load '/Game/HoudiniEngine/Temp/HDA_TerrainToolD629CDC34BCF_LayerInfoObject_DebrisLayer_9': Can't find file.\n",
      "2        LogUObjectGlobals: Warning: While loading 'D:/repo/proto/Client/Content/Tests/Maps/HoudiniLandscape.umap' failed to load '/Game/HoudiniEngine/Temp/HDA_TerrainToolD629CDC34BCF_LayerInfoObject_GrassLayer_10': Can't find file.\n",
      "3        LogUObjectGlobals: Warning: While loading 'D:/repo/proto/Client/Content/Tests/Maps/HoudiniLandscape.umap' failed to load '/Game/HoudiniEngine/Temp/HDA_TerrainToolD629CDC34BCF_LayerInfoObject_GrassLayer_10': Can't find file.\n",
      "4               LogUObjectGlobals: Warning: While loading 'D:/repo/proto/Client/Content/Tests/Maps/HoudiniLandscape.umap' failed to load '/Game/HoudiniEngine/Temp/HDA_TerrainToolD629CDC34BCF_LayerInfoObject_mesa_1': Can't find file.\n",
      "...                                                                                                                                                                                                                                  ...\n",
      "10645                                                                                                                                        Cancelling Test Gauntlet.Automation.Unreal.SampleTest (Win64 Development Client) on request\n",
      "10646                                                                                                                                                                                                                                  *\n",
      "10647                                                                                                                                                                   ****************************************************************\n",
      "10648                                                                                                                                           Finished Test: Gauntlet.Automation.Unreal.SampleTest (Win64 Development Client) in 02:57\n",
      "10649                                                                                                                                                                                                                     ^CBUILD FAILED\n",
      "\n",
      "[10650 rows x 1 columns]\n"
     ]
    }
   ],
   "source": [
    "file_path = input(\"Введите путь к файлу или папке: \")\n",
    "\n",
    "if file_path[-1] == \"/\":\n",
    "    p = Path(file_path)  \n",
    "    log = (pd\n",
    "          .concat(\n",
    "            [pd.read_table(f, names=['logs'])\n",
    "            for f in p.glob(\"*.log\")],\n",
    "            ignore_index=True))\n",
    "else:\n",
    "    log = pd.read_table(file_path)\n",
    "\n",
    "pd.options.display.max_colwidth = None\n",
    "print(log)"
   ]
  }
 ],
 "metadata": {
  "kernelspec": {
   "display_name": "Python 3 (ipykernel)",
   "language": "python",
   "name": "python3"
  },
  "language_info": {
   "codemirror_mode": {
    "name": "ipython",
    "version": 3
   },
   "file_extension": ".py",
   "mimetype": "text/x-python",
   "name": "python",
   "nbconvert_exporter": "python",
   "pygments_lexer": "ipython3",
   "version": "3.9.13"
  }
 },
 "nbformat": 4,
 "nbformat_minor": 2
}
